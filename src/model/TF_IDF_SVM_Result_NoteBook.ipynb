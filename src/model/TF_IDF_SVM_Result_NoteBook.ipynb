{
 "cells": [
  {
   "cell_type": "code",
   "execution_count": 1,
   "metadata": {},
   "outputs": [],
   "source": [
    "import load_baseline_train_data\n",
    "from sklearn.model_selection import train_test_split\n",
    "from sklearn.svm import SVC\n",
    "from nltk.corpus import stopwords\n",
    "import re\n",
    "from sklearn.feature_extraction.text import TfidfVectorizer\n",
    "import pandas as pd\n",
    "import numpy as np\n",
    "from sklearn.linear_model import LogisticRegression\n",
    "from sklearn.metrics.classification import accuracy_score,classification_report"
   ]
  },
  {
   "cell_type": "code",
   "execution_count": 2,
   "metadata": {},
   "outputs": [],
   "source": [
    "df = load_baseline_train_data.get_user_tweet_data('training_user_tweet.csv')"
   ]
  },
  {
   "cell_type": "code",
   "execution_count": 3,
   "metadata": {},
   "outputs": [
    {
     "name": "stdout",
     "output_type": "stream",
     "text": [
      "Cleaning tweet\n",
      "Tweet Cleaned\n"
     ]
    }
   ],
   "source": [
    "def clean_tweet(x):\n",
    "    #Create a string form of our list of text\n",
    "    raw_string = x\n",
    "    no_links = re.sub(r'http\\S+', '', raw_string)\n",
    "    no_unicode = re.sub(r\"\\\\[a-z][a-z]?[0-9]+\", '', no_links)\n",
    "    no_special_characters = re.sub('[^A-Za-z ]+', '', no_unicode)\n",
    "    words = no_special_characters.split(\" \")\n",
    "    words = [w for w in words if len(w) > 2]\n",
    "    words = [w.lower() for w in words]\n",
    "    stw = stopwords.words('english')\n",
    "    words = [w for w in words if w not in stw]\n",
    "    return ' '.join(words)\n",
    "\n",
    "\n",
    "\n",
    "\n",
    "print('Cleaning tweet')\n",
    "df['tweet'] = df['tweet'].apply(clean_tweet)\n",
    "\n",
    "\n",
    "print('Tweet Cleaned')\n"
   ]
  },
  {
   "cell_type": "code",
   "execution_count": 4,
   "metadata": {},
   "outputs": [
    {
     "name": "stdout",
     "output_type": "stream",
     "text": [
      "Fitting TF-IDF :\n",
      "TF-IDF fitting complete\n",
      "(12143, 2000)\n",
      "(12143, 28)\n"
     ]
    }
   ],
   "source": [
    "# TF-IDF Vectorizer\n",
    "tfidf = TfidfVectorizer(\n",
    "    min_df = 5,\n",
    "    max_df = 0.95,\n",
    "    max_features = 2000,\n",
    "    stop_words = 'english'\n",
    ")\n",
    "print('Fitting TF-IDF :')\n",
    "tfidf.fit(df.tweet)\n",
    "text = tfidf.transform(df.tweet)\n",
    "print('TF-IDF fitting complete')\n",
    "print(text.shape)\n",
    "print(df.shape)"
   ]
  },
  {
   "cell_type": "code",
   "execution_count": 5,
   "metadata": {},
   "outputs": [
    {
     "name": "stdout",
     "output_type": "stream",
     "text": [
      "(12143, 2026)\n",
      "(12143,)\n"
     ]
    }
   ],
   "source": [
    "df= df.reset_index(drop=True)\n",
    "X = df.drop(columns= ['tweet'])\n",
    "Y = X['label']\n",
    "X = X.drop(columns= ['label'])\n",
    "X = pd.concat([X, pd.DataFrame(text.todense())], axis=1,ignore_index=True)\n",
    "print(X.shape)\n",
    "print(Y.shape)\n"
   ]
  },
  {
   "cell_type": "code",
   "execution_count": 12,
   "metadata": {},
   "outputs": [
    {
     "name": "stdout",
     "output_type": "stream",
     "text": [
      "[LibSVM]Classification Accuracy with Standard 1 fold Split:\n",
      "0.8970769864141622\n",
      "              precision    recall  f1-score   support\n",
      "\n",
      "           0       0.71      0.98      0.83       606\n",
      "           1       0.99      0.87      0.93      1823\n",
      "\n",
      "    accuracy                           0.90      2429\n",
      "   macro avg       0.85      0.93      0.88      2429\n",
      "weighted avg       0.92      0.90      0.90      2429\n",
      "\n"
     ]
    }
   ],
   "source": [
    "svclassifier_1fold = SVC(C=100, cache_size=200, class_weight=None, coef0=0.0,\n",
    "decision_function_shape='ovr', degree=3, gamma='auto', kernel='rbf',\n",
    "    max_iter=-1, probability=False, random_state=None, shrinking=True,\n",
    "    tol=0.001, verbose=True)\n",
    "X_train, X_test, y_train, y_test = train_test_split(X, Y, test_size=0.2, random_state=42,stratify=Y)\n",
    "svclassifier_1fold.fit(X_train, y_train)\n",
    "\n",
    "\n",
    "predictions = svclassifier_1fold.predict(X_test)\n",
    "score = accuracy_score(y_test,predictions)\n",
    "print(\"Classification Accuracy with Standard 1 fold Split:\")\n",
    "print(score)\n",
    "print(classification_report(y_test,predictions))"
   ]
  },
  {
   "cell_type": "code",
   "execution_count": 10,
   "metadata": {},
   "outputs": [
    {
     "name": "stdout",
     "output_type": "stream",
     "text": [
      "[LibSVM][LibSVM][LibSVM][LibSVM][LibSVM][LibSVM][LibSVM][LibSVM][LibSVM][LibSVM]dict_keys(['fit_time', 'score_time', 'test_acc', 'train_acc', 'test_f1', 'train_f1'])\n",
      "[0.25020576 0.92839506 0.99176955 0.99506173 0.89785832 0.55189456\n",
      " 0.83607908 0.98187809 0.99341021 0.55070074]\n"
     ]
    }
   ],
   "source": [
    "\n",
    "# 5 fold Cross Validation Result\n",
    "from sklearn.model_selection import cross_validate\n",
    "\n",
    "\n",
    "\n",
    "\n",
    "scoring = {'acc': 'accuracy',\n",
    "           'f1': 'f1'}\n",
    "svclassifier = SVC(C=100, cache_size=200, class_weight=None, coef0=0.0,\n",
    "decision_function_shape='ovr', degree=3, gamma='auto', kernel='rbf',\n",
    "    max_iter=-1, probability=False, random_state=None, shrinking=True,\n",
    "    tol=0.001, verbose=True)\n",
    "\n",
    "scores = cross_validate(svclassifier,X,Y,scoring=scoring,\n",
    "                         cv=10, return_train_score=True)\n",
    "\n",
    "print(scores.keys())\n",
    "print(scores['test_acc']) \n",
    "#svclassifier.fit(X_train, y_train)\n",
    "\n",
    "\n",
    "# predictions = svclassifier.predict(X_test)\n",
    "# score = accuracy_score(y_test,predictions)\n",
    "# print(score)\n",
    "# print(classification_report(y_test,predictions))"
   ]
  },
  {
   "cell_type": "code",
   "execution_count": 11,
   "metadata": {},
   "outputs": [
    {
     "name": "stdout",
     "output_type": "stream",
     "text": [
      "Average Test accuracy across 5 folds: \n",
      "0.7977253104318942\n",
      "Average F1 score(class 1) across 5 folds: \n",
      "0.7896353375147311\n"
     ]
    }
   ],
   "source": [
    "print('Average Test accuracy across 5 folds: ')\n",
    "print(sum(scores['test_acc'])/len(scores['test_acc']))\n",
    "print('Average F1 score(class 1) across 5 folds: ')\n",
    "print(sum(scores['test_f1'])/len(scores['test_f1']))\n",
    "\n"
   ]
  }
 ],
 "metadata": {
  "kernelspec": {
   "display_name": "Python 3",
   "language": "python",
   "name": "python3"
  },
  "language_info": {
   "codemirror_mode": {
    "name": "ipython",
    "version": 3
   },
   "file_extension": ".py",
   "mimetype": "text/x-python",
   "name": "python",
   "nbconvert_exporter": "python",
   "pygments_lexer": "ipython3",
   "version": "3.7.4"
  }
 },
 "nbformat": 4,
 "nbformat_minor": 2
}
