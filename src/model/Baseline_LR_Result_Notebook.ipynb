{
 "cells": [
  {
   "cell_type": "code",
   "execution_count": 7,
   "metadata": {},
   "outputs": [],
   "source": [
    "import load_baseline_train_data\n",
    "from sklearn.model_selection import train_test_split\n",
    "import numpy as np\n",
    "from sklearn.linear_model import LogisticRegression\n",
    "from sklearn.metrics.classification import accuracy_score,classification_report"
   ]
  },
  {
   "cell_type": "code",
   "execution_count": 8,
   "metadata": {},
   "outputs": [
    {
     "name": "stdout",
     "output_type": "stream",
     "text": [
      "Classification Accuracy for 1-Fold Test set:\n",
      "0.8444520081688224\n",
      "              precision    recall  f1-score   support\n",
      "\n",
      "           0       0.97      0.60      0.74      1085\n",
      "           1       0.81      0.99      0.89      1853\n",
      "\n",
      "    accuracy                           0.84      2938\n",
      "   macro avg       0.89      0.79      0.81      2938\n",
      "weighted avg       0.87      0.84      0.83      2938\n",
      "\n"
     ]
    },
    {
     "name": "stderr",
     "output_type": "stream",
     "text": [
      "C:\\Users\\anvay\\Anaconda3\\envs\\cs676\\lib\\site-packages\\sklearn\\linear_model\\logistic.py:947: ConvergenceWarning: lbfgs failed to converge. Increase the number of iterations.\n",
      "  \"of iterations.\", ConvergenceWarning)\n"
     ]
    }
   ],
   "source": [
    "df = load_baseline_train_data.get_baseline_data()\n",
    "\n",
    "Y = df['label']\n",
    "X = df.drop(columns= ['label'])\n",
    "\n",
    "\n",
    "X_train, X_test, y_train, y_test = train_test_split(X, Y, test_size=0.2, random_state=42,stratify=Y)\n",
    "\n",
    "LR = LogisticRegression(random_state=0, solver='lbfgs', multi_class='ovr').fit(X_train,y_train)\n",
    "\n",
    "predictions = LR.predict(X_test)\n",
    "score = accuracy_score(y_test,predictions)\n",
    "print('Classification Accuracy for 1-Fold Test set:')\n",
    "print(score)\n",
    "print(classification_report(y_test,predictions))"
   ]
  },
  {
   "cell_type": "code",
   "execution_count": 10,
   "metadata": {},
   "outputs": [
    {
     "name": "stderr",
     "output_type": "stream",
     "text": [
      "C:\\Users\\anvay\\Anaconda3\\envs\\cs676\\lib\\site-packages\\sklearn\\linear_model\\logistic.py:947: ConvergenceWarning: lbfgs failed to converge. Increase the number of iterations.\n",
      "  \"of iterations.\", ConvergenceWarning)\n",
      "C:\\Users\\anvay\\Anaconda3\\envs\\cs676\\lib\\site-packages\\sklearn\\linear_model\\logistic.py:947: ConvergenceWarning: lbfgs failed to converge. Increase the number of iterations.\n",
      "  \"of iterations.\", ConvergenceWarning)\n",
      "C:\\Users\\anvay\\Anaconda3\\envs\\cs676\\lib\\site-packages\\sklearn\\linear_model\\logistic.py:947: ConvergenceWarning: lbfgs failed to converge. Increase the number of iterations.\n",
      "  \"of iterations.\", ConvergenceWarning)\n",
      "C:\\Users\\anvay\\Anaconda3\\envs\\cs676\\lib\\site-packages\\sklearn\\linear_model\\logistic.py:947: ConvergenceWarning: lbfgs failed to converge. Increase the number of iterations.\n",
      "  \"of iterations.\", ConvergenceWarning)\n"
     ]
    },
    {
     "name": "stdout",
     "output_type": "stream",
     "text": [
      "dict_keys(['fit_time', 'score_time', 'test_acc', 'train_acc', 'test_f1', 'train_f1'])\n",
      "[0.93737236 0.93124575 0.7668482  0.74361593 0.6880109 ]\n"
     ]
    },
    {
     "name": "stderr",
     "output_type": "stream",
     "text": [
      "C:\\Users\\anvay\\Anaconda3\\envs\\cs676\\lib\\site-packages\\sklearn\\linear_model\\logistic.py:947: ConvergenceWarning: lbfgs failed to converge. Increase the number of iterations.\n",
      "  \"of iterations.\", ConvergenceWarning)\n"
     ]
    }
   ],
   "source": [
    "# 5 fold Cross Validation Result\n",
    "from sklearn.model_selection import cross_validate\n",
    "\n",
    "\n",
    "\n",
    "\n",
    "scoring = {'acc': 'accuracy',\n",
    "           'f1': 'f1'}\n",
    "LR_cv = LogisticRegression(random_state=0, solver='lbfgs', multi_class='ovr')\n",
    "\n",
    "scores = cross_validate(LR_cv,X,Y,scoring=scoring,\n",
    "                         cv=5, return_train_score=True)\n",
    "\n",
    "print(scores.keys())\n",
    "print(scores['test_acc']) "
   ]
  },
  {
   "cell_type": "code",
   "execution_count": 11,
   "metadata": {},
   "outputs": [
    {
     "name": "stdout",
     "output_type": "stream",
     "text": [
      "Average Test accuracy across 5 folds: \n",
      "0.8134186274835257\n",
      "Average F1 score(class 1) across 5 folds: \n",
      "0.8673542515862025\n"
     ]
    }
   ],
   "source": [
    "print('Average Test accuracy across 5 folds: ')\n",
    "print(sum(scores['test_acc'])/len(scores['test_acc']))\n",
    "print('Average F1 score(class 1) across 5 folds: ')\n",
    "print(sum(scores['test_f1'])/len(scores['test_f1']))\n"
   ]
  },
  {
   "cell_type": "code",
   "execution_count": null,
   "metadata": {},
   "outputs": [],
   "source": []
  }
 ],
 "metadata": {
  "kernelspec": {
   "display_name": "Python 3",
   "language": "python",
   "name": "python3"
  },
  "language_info": {
   "codemirror_mode": {
    "name": "ipython",
    "version": 3
   },
   "file_extension": ".py",
   "mimetype": "text/x-python",
   "name": "python",
   "nbconvert_exporter": "python",
   "pygments_lexer": "ipython3",
   "version": "3.7.4"
  }
 },
 "nbformat": 4,
 "nbformat_minor": 2
}
